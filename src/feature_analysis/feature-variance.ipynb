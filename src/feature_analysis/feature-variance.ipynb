{
 "cells": [
  {
   "cell_type": "code",
   "execution_count": 1,
   "metadata": {},
   "outputs": [
    {
     "name": "stderr",
     "output_type": "stream",
     "text": [
      "/home/mantydze/anaconda3/lib/python3.6/site-packages/h5py/__init__.py:36: FutureWarning: Conversion of the second argument of issubdtype from `float` to `np.floating` is deprecated. In future, it will be treated as `np.float64 == np.dtype(float).type`.\n",
      "  from ._conv import register_converters as _register_converters\n"
     ]
    }
   ],
   "source": [
    "import os\n",
    "import json\n",
    "import h5py\n",
    "import numpy as np\n",
    "import pandas as pd\n",
    "import matplotlib.pyplot as plt"
   ]
  },
  {
   "cell_type": "code",
   "execution_count": 2,
   "metadata": {},
   "outputs": [
    {
     "name": "stdout",
     "output_type": "stream",
     "text": [
      "Number of feature vectors: 401\n"
     ]
    }
   ],
   "source": [
    "# Feature description\n",
    "\n",
    "feature_names = ['qPFJetPt', 'qPFJetEta', 'qPFJetPhi', 'qPFJet0Pt', 'qPFJet1Pt', 'qPFJet2Pt', 'qPFJet3Pt', 'qPFJet4Pt', 'qPFJet5Pt', 'qPFJet0Eta', 'qPFJet1Eta', 'qPFJet2Eta', 'qPFJet3Eta', 'qPFJet4Eta', 'qPFJet5Eta', 'qPFJet0Phi', 'qPFJet1Phi', 'qPFJet2Phi', 'qPFJet3Phi', 'qPFJet4Phi', 'qPFJet5Phi', 'qPFJet4CHS0Pt', 'qPFJet4CHS1Pt', 'qPFJet4CHS2Pt', 'qPFJet4CHS3Pt', 'qPFJet4CHS4Pt', 'qPFJet4CHS5Pt', 'qPFJet4CHS0Eta', 'qPFJet4CHS1Eta', 'qPFJet4CHS2Eta', 'qPFJet4CHS3Eta', 'qPFJet4CHS4Eta', 'qPFJet4CHS5Eta', 'qPFJet4CHS0Phi', 'qPFJet4CHS1Phi', 'qPFJet4CHS2Phi', 'qPFJet4CHS3Phi', 'qPFJet4CHS4Phi', 'qPFJet4CHS5Phi', 'qPFJet8CHS0Pt', 'qPFJet8CHS1Pt', 'qPFJet8CHS2Pt', 'qPFJet8CHS3Pt', 'qPFJet8CHS4Pt', 'qPFJet8CHS5Pt', 'qPFJet8CHS0Eta', 'qPFJet8CHS1Eta', 'qPFJet8CHS2Eta', 'qPFJet8CHS3Eta', 'qPFJet8CHS4Eta', 'qPFJet8CHS5Eta', 'qPFJet8CHS0Phi', 'qPFJet8CHS1Phi', 'qPFJet8CHS2Phi', 'qPFJet8CHS3Phi', 'qPFJet8CHS4Phi', 'qPFJet8CHS5Phi', 'qPFJetEI0Pt', 'qPFJetEI1Pt', 'qPFJetEI2Pt', 'qPFJetEI3Pt', 'qPFJetEI4Pt', 'qPFJetEI5Pt', 'qPFJetEI0Eta', 'qPFJetEI1Eta', 'qPFJetEI2Eta', 'qPFJetEI3Eta', 'qPFJetEI4Eta', 'qPFJetEI5Eta', 'qPFJetEI0Phi', 'qPFJetEI1Phi', 'qPFJetEI2Phi', 'qPFJetEI3Phi', 'qPFJetEI4Phi', 'qPFJetEI5Phi', 'qPFJet8CHSSD0Pt', 'qPFJet8CHSSD1Pt', 'qPFJet8CHSSD2Pt', 'qPFJet8CHSSD3Pt', 'qPFJet8CHSSD4Pt', 'qPFJet8CHSSD5Pt', 'qPFJet8CHSSD0Eta', 'qPFJet8CHSSD1Eta', 'qPFJet8CHSSD2Eta', 'qPFJet8CHSSD3Eta', 'qPFJet8CHSSD4Eta', 'qPFJet8CHSSD5Eta', 'qPFJet8CHSSD0Phi', 'qPFJet8CHSSD1Phi', 'qPFJet8CHSSD2Phi', 'qPFJet8CHSSD3Phi', 'qPFJet8CHSSD4Phi', 'qPFJet8CHSSD5Phi', 'qPFJetTopCHS0Pt', 'qPFJetTopCHS1Pt', 'qPFJetTopCHS2Pt', 'qPFJetTopCHS3Pt', 'qPFJetTopCHS4Pt', 'qPFJetTopCHS5Pt', 'qPFJetTopCHS0Eta', 'qPFJetTopCHS1Eta', 'qPFJetTopCHS2Eta', 'qPFJetTopCHS3Eta', 'qPFJetTopCHS4Eta', 'qPFJetTopCHS5Eta', 'qPFJetTopCHS0Phi', 'qPFJetTopCHS1Phi', 'qPFJetTopCHS2Phi', 'qPFJetTopCHS3Phi', 'qPFJetTopCHS4Phi', 'qPFJetTopCHS5Phi', 'qCalJet0Pt', 'qCalJet1Pt', 'qCalJet2Pt', 'qCalJet3Pt', 'qCalJet4Pt', 'qCalJet5Pt', 'qCalJet0Eta', 'qCalJet1Eta', 'qCalJet2Eta', 'qCalJet3Eta', 'qCalJet4Eta', 'qCalJet5Eta', 'qCalJet0Phi', 'qCalJet1Phi', 'qCalJet2Phi', 'qCalJet3Phi', 'qCalJet4Phi', 'qCalJet5Phi', 'qCalJet0En', 'qCalJet1En', 'qCalJet2En', 'qCalJet3En', 'qCalJet4En', 'qCalJet5En', 'qPho0Pt', 'qPho1Pt', 'qPho2Pt', 'qPho3Pt', 'qPho4Pt', 'qPho5Pt', 'qPho0Eta', 'qPho1Eta', 'qPho2Eta', 'qPho3Eta', 'qPho4Eta', 'qPho5Eta', 'qPho0Phi', 'qPho1Phi', 'qPho2Phi', 'qPho3Phi', 'qPho4Phi', 'qPho5Phi', 'qPho0En', 'qPho1En', 'qPho2En', 'qPho3En', 'qPho4En', 'qPho5En', 'qgedPho0Pt', 'qgedPho1Pt', 'qgedPho2Pt', 'qgedPho3Pt', 'qgedPho4Pt', 'qgedPho5Pt', 'qgedPho0Eta', 'qgedPho1Eta', 'qgedPho2Eta', 'qgedPho3Eta', 'qgedPho4Eta', 'qgedPho5Eta', 'qgedPho0Phi', 'qgedPho1Phi', 'qgedPho2Phi', 'qgedPho3Phi', 'qgedPho4Phi', 'qgedPho5Phi', 'qgedPho0En', 'qgedPho1En', 'qgedPho2En', 'qgedPho3En', 'qgedPho4En', 'qgedPho5En', 'qMu0Pt', 'qMu1Pt', 'qMu2Pt', 'qMu3Pt', 'qMu4Pt', 'qMu5Pt', 'qMu0Eta', 'qMu1Eta', 'qMu2Eta', 'qMu3Eta', 'qMu4Eta', 'qMu5Eta', 'qMu0Phi', 'qMu1Phi', 'qMu2Phi', 'qMu3Phi', 'qMu4Phi', 'qMu5Phi', 'qMu0En', 'qMu1En', 'qMu2En', 'qMu3En', 'qMu4En', 'qMu5En', 'qMuCosm0Pt', 'qMuCosm1Pt', 'qMuCosm2Pt', 'qMuCosm3Pt', 'qMuCosm4Pt', 'qMuCosm5Pt', 'qMuCosm0Eta', 'qMuCosm1Eta', 'qMuCosm2Eta', 'qMuCosm3Eta', 'qMuCosm4Eta', 'qMuCosm5Eta', 'qMuCosm0Phi', 'qMuCosm1Phi', 'qMuCosm2Phi', 'qMuCosm3Phi', 'qMuCosm4Phi', 'qMuCosm5Phi', 'qMuCosm0En', 'qMuCosm1En', 'qMuCosm2En', 'qMuCosm3En', 'qMuCosm4En', 'qMuCosm5En', 'qMuCosmLeg0Pt', 'qMuCosmLeg1Pt', 'qMuCosmLeg2Pt', 'qMuCosmLeg3Pt', 'qMuCosmLeg4Pt', 'qMuCosmLeg5Pt', 'qMuCosmLeg0Eta', 'qMuCosmLeg1Eta', 'qMuCosmLeg2Eta', 'qMuCosmLeg3Eta', 'qMuCosmLeg4Eta', 'qMuCosmLeg5Eta', 'qMuCosmLeg0Phi', 'qMuCosmLeg1Phi', 'qMuCosmLeg2Phi', 'qMuCosmLeg3Phi', 'qMuCosmLeg4Phi', 'qMuCosmLeg5Phi', 'qMuCosmLeg0En', 'qMuCosmLeg1En', 'qMuCosmLeg2En', 'qMuCosmLeg3En', 'qMuCosmLeg4En', 'qMuCosmLeg5En', 'qPFJet4CHSPt', 'qPFJet4CHSEta', 'qPFJet4CHSPhi', 'qPFJet8CHSPt', 'qPFJet8CHSEta', 'qPFJet8CHSPhi', 'qPFJetEIPt', 'qPFJetEIEta', 'qPFJetEIPhi', 'qPFJet8CHSSDPt', 'qPFJet8CHSSDEta', 'qPFJet8CHSSDPhi', 'qPFJetTopCHSPt', 'qPFJetTopCHSEta', 'qPFJetTopCHSPhi', 'qPFChMetPt', 'qPFChMetPhi', 'qPFMetPt', 'qPFMetPhi', 'qNVtx', 'qCalJetPt', 'qCalJetEta', 'qCalJetPhi', 'qCalJetEn', 'qCalMETPt', 'qCalMETPhi', 'qCalMETEn', 'qCalMETBEPt', 'qCalMETBEPhi', 'qCalMETBEEn', 'qCalMETBEFOPt', 'qCalMETBEFOPhi', 'qCalMETBEFOEn', 'qCalMETMPt', 'qCalMETMPhi', 'qCalMETMEn', 'qSCEn', 'qSCEta', 'qSCPhi', 'qSCEtaWidth', 'qSCPhiWidth', 'qSCEnhfEM', 'qSCEtahfEM', 'qSCPhihfEM', 'qSCEn5x5', 'qSCEta5x5', 'qSCPhi5x5', 'qSCEtaWidth5x5', 'qSCPhiWidth5x5', 'qCCEn', 'qCCEta', 'qCCPhi', 'qCCEn5x5', 'qCCEta5x5', 'qCCPhi5x5', 'qPhoPt', 'qPhoEta', 'qPhoPhi', 'qPhoEn_', 'qPhoe1x5_', 'qPhoe2x5_', 'qPhoe3x3_', 'qPhoe5x5_', 'qPhomaxenxtal_', 'qPhosigmaeta_', 'qPhosigmaIeta_', 'qPhor1x5_', 'qPhor2x5_', 'qPhor9_', 'qgedPhoPt', 'qgedPhoEta', 'qgedPhoPhi', 'qgedPhoEn_', 'qgedPhoe1x5_', 'qgedPhoe2x5_', 'qgedPhoe3x3_', 'qgedPhoe5x5_', 'qgedPhomaxenxtal_', 'qgedPhosigmaeta_', 'qgedPhosigmaIeta_', 'qgedPhor1x5_', 'qgedPhor2x5_', 'qgedPhor9_', 'qMuPt', 'qMuEta', 'qMuPhi', 'qMuEn_', 'qMuCh_', 'qMuChi2_', 'qMuCosmPt', 'qMuCosmEta', 'qMuCosmPhi', 'qMuCosmEn_', 'qMuCosmCh_', 'qMuCosmChi2_', 'qMuCosmLegPt', 'qMuCosmLegEta', 'qMuCosmLegPhi', 'qMuCosmLegEn_', 'qMuCosmLegCh_', 'qMuCosmLegChi2_', 'qSigmaIEta', 'qSigmaIPhi', 'qr9', 'qHadOEm', 'qdrSumPt', 'qdrSumEt', 'qeSCOP', 'qecEn', 'qUNSigmaIEta', 'qUNSigmaIPhi', 'qUNr9', 'qUNHadOEm', 'qUNdrSumPt', 'qUNdrSumEt', 'qUNeSCOP', 'qUNecEn', 'qEBenergy', 'qEBtime', 'qEBchi2', 'qEBiEta', 'qEBiPhi', 'qEEenergy', 'qEEtime', 'qEEchi2', 'qEEix', 'qEEiy', 'qESenergy', 'qEStime', 'qESix', 'qESiy', 'qHBHEenergy', 'qHBHEtime', 'qHBHEauxe', 'qHBHEieta', 'qHBHEiphi', 'qHFenergy', 'qHFtime', 'qHFieta', 'qHFiphi', 'qPreShEn', 'qPreShEta', 'qPreShPhi', 'qPreShYEn', 'qPreShYEta', 'qPreShYPhi']\n",
    "\n",
    "feature_positions = [\"MEAN\", \"RMS\", \"Q1\", \"Q2\", \"Q3\", \"Q4\", \"Q5\"]\n",
    "\n",
    "parameters = [\"%s_%s\" % (name, position) for name in feature_names for position in feature_positions]\n",
    "\n",
    "print(\"Number of feature vectors: %d\" % len(feature_names))"
   ]
  },
  {
   "cell_type": "code",
   "execution_count": 3,
   "metadata": {},
   "outputs": [],
   "source": [
    "dset_names = [\"JetHT2016\", \"SingleMuon2016\", \"ZeroBias2016\", \"SinglePhoton2016\"]\n",
    "\n",
    "dset_basepath = \"/home/mantydze/data/{dset_name}/single/{dset_name}.h5\""
   ]
  },
  {
   "cell_type": "code",
   "execution_count": 4,
   "metadata": {},
   "outputs": [
    {
     "name": "stdout",
     "output_type": "stream",
     "text": [
      "/home/mantydze/data/JetHT2016/single/JetHT2016.h5\n",
      "/home/mantydze/data/SingleMuon2016/single/SingleMuon2016.h5\n",
      "/home/mantydze/data/ZeroBias2016/single/ZeroBias2016.h5\n",
      "/home/mantydze/data/SinglePhoton2016/single/SinglePhoton2016.h5\n"
     ]
    }
   ],
   "source": [
    "dset_stats = {}\n",
    "\n",
    "for dset_name in dset_names:\n",
    "    dset_stats[dset_name] = []\n",
    "    \n",
    "    # Read dataset\n",
    "    dset_path = dset_basepath.format(dset_name=dset_name)\n",
    "    print(dset_path)\n",
    "    \n",
    "    with h5py.File(dset_path, \"r\") as f:\n",
    "        dset = f[dset_name][:]\n",
    "    \n",
    "    # calculate parameter variance\n",
    "    X = dset[:, :2807]\n",
    "    variances = np.var(X, axis=0)\n",
    "    indices = np.argsort(variances)[::-1]\n",
    "    \n",
    "    # Create intermediate statistics for each feature\n",
    "    for index in indices:\n",
    "        variance = variances[index]\n",
    "\n",
    "        feature, position = divmod(index, 7) # integer and remainder\n",
    "\n",
    "        dset_stats[dset_name].append({\n",
    "            \"index\": index,\n",
    "            \"name\": feature_names[feature],\n",
    "            \"position\": feature_positions[position],\n",
    "            \"variance\": variance,\n",
    "            \"value\": dset[0, index] if variance == 0.0 else None\n",
    "        })\n",
    "        "
   ]
  },
  {
   "cell_type": "code",
   "execution_count": 5,
   "metadata": {},
   "outputs": [],
   "source": [
    "def default(o):\n",
    "    if isinstance(o, np.integer): return int(o)\n",
    "    raise TypeError\n",
    "\n",
    "# dump statistics to file\n",
    "with open(\"dset_stats.json\", \"w\") as f:\n",
    "    json.dump(dset_stats, f, indent=4, default=default)"
   ]
  },
  {
   "cell_type": "markdown",
   "metadata": {},
   "source": [
    "# Zero variance"
   ]
  },
  {
   "cell_type": "code",
   "execution_count": 6,
   "metadata": {},
   "outputs": [
    {
     "name": "stdout",
     "output_type": "stream",
     "text": [
      "# of parameters with zero variance, Dataset\n",
      "325 JetHT2016\n",
      "478 SingleMuon2016\n",
      "585 ZeroBias2016\n",
      "355 SinglePhoton2016\n"
     ]
    }
   ],
   "source": [
    "zvs = []\n",
    "print(\"# of parameters with zero variance, Dataset\")    \n",
    "\n",
    "for dset_name in dset_stats.keys():    \n",
    "    zv = set([s[\"index\"] for s in dset_stats[dset_name] if s[\"variance\"] == 0.0])\n",
    "    zvs.append(zv)\n",
    "    print(len(zv), dset_name)"
   ]
  },
  {
   "cell_type": "code",
   "execution_count": 7,
   "metadata": {},
   "outputs": [],
   "source": [
    "# list of indexes of parameters with zero variance across all datasets\n",
    "zv_all = set.intersection(*zvs)"
   ]
  },
  {
   "cell_type": "code",
   "execution_count": 8,
   "metadata": {},
   "outputs": [
    {
     "name": "stdout",
     "output_type": "stream",
     "text": [
      "289 qPFJet8CHS2Pt_Q1\n",
      "296 qPFJet8CHS3Pt_Q1\n",
      "303 qPFJet8CHS4Pt_Q1\n",
      "310 qPFJet8CHS5Pt_Q1\n",
      "354 qPFJet8CHS5Eta_Q3\n",
      "396 qPFJet8CHS5Phi_Q3\n",
      "527 qPFJet8CHSSD0Pt_Q1\n",
      "534 qPFJet8CHSSD1Pt_Q1\n",
      "541 qPFJet8CHSSD2Pt_Q1\n",
      "548 qPFJet8CHSSD3Pt_Q1\n",
      "555 qPFJet8CHSSD4Pt_Q1\n",
      "556 qPFJet8CHSSD4Pt_Q2\n",
      "562 qPFJet8CHSSD5Pt_Q1\n",
      "563 qPFJet8CHSSD5Pt_Q2\n",
      "599 qPFJet8CHSSD4Eta_Q3\n",
      "606 qPFJet8CHSSD5Eta_Q3\n",
      "641 qPFJet8CHSSD4Phi_Q3\n",
      "648 qPFJet8CHSSD5Phi_Q3\n",
      "653 qPFJetTopCHS0Pt_Q1\n",
      "660 qPFJetTopCHS1Pt_Q1\n",
      "667 qPFJetTopCHS2Pt_Q1\n",
      "674 qPFJetTopCHS3Pt_Q1\n",
      "681 qPFJetTopCHS4Pt_Q1\n",
      "682 qPFJetTopCHS4Pt_Q2\n",
      "688 qPFJetTopCHS5Pt_Q1\n",
      "689 qPFJetTopCHS5Pt_Q2\n",
      "718 qPFJetTopCHS3Eta_Q3\n",
      "725 qPFJetTopCHS4Eta_Q3\n",
      "732 qPFJetTopCHS5Eta_Q3\n",
      "760 qPFJetTopCHS3Phi_Q3\n",
      "767 qPFJetTopCHS4Phi_Q3\n",
      "774 qPFJetTopCHS5Phi_Q3\n",
      "954 qPho1Pt_Q1\n",
      "961 qPho2Pt_Q1\n",
      "962 qPho2Pt_Q2\n",
      "968 qPho3Pt_Q1\n",
      "969 qPho3Pt_Q2\n",
      "975 qPho4Pt_Q1\n",
      "976 qPho4Pt_Q2\n",
      "977 qPho4Pt_Q3\n",
      "982 qPho5Pt_Q1\n",
      "983 qPho5Pt_Q2\n",
      "984 qPho5Pt_Q3\n",
      "1005 qPho2Eta_Q3\n",
      "1012 qPho3Eta_Q3\n",
      "1018 qPho4Eta_Q2\n",
      "1019 qPho4Eta_Q3\n",
      "1020 qPho4Eta_Q4\n",
      "1025 qPho5Eta_Q2\n",
      "1026 qPho5Eta_Q3\n",
      "1027 qPho5Eta_Q4\n",
      "1040 qPho1Phi_Q3\n",
      "1047 qPho2Phi_Q3\n",
      "1054 qPho3Phi_Q3\n",
      "1060 qPho4Phi_Q2\n",
      "1061 qPho4Phi_Q3\n",
      "1062 qPho4Phi_Q4\n",
      "1067 qPho5Phi_Q2\n",
      "1068 qPho5Phi_Q3\n",
      "1069 qPho5Phi_Q4\n",
      "1080 qPho1En_Q1\n",
      "1087 qPho2En_Q1\n",
      "1088 qPho2En_Q2\n",
      "1094 qPho3En_Q1\n",
      "1095 qPho3En_Q2\n",
      "1101 qPho4En_Q1\n",
      "1102 qPho4En_Q2\n",
      "1103 qPho4En_Q3\n",
      "1108 qPho5En_Q1\n",
      "1109 qPho5En_Q2\n",
      "1110 qPho5En_Q3\n",
      "1122 qgedPho1Pt_Q1\n",
      "1129 qgedPho2Pt_Q1\n",
      "1136 qgedPho3Pt_Q1\n",
      "1137 qgedPho3Pt_Q2\n",
      "1143 qgedPho4Pt_Q1\n",
      "1144 qgedPho4Pt_Q2\n",
      "1145 qgedPho4Pt_Q3\n",
      "1150 qgedPho5Pt_Q1\n",
      "1151 qgedPho5Pt_Q2\n",
      "1152 qgedPho5Pt_Q3\n",
      "1173 qgedPho2Eta_Q3\n",
      "1180 qgedPho3Eta_Q3\n",
      "1186 qgedPho4Eta_Q2\n",
      "1187 qgedPho4Eta_Q3\n",
      "1193 qgedPho5Eta_Q2\n",
      "1194 qgedPho5Eta_Q3\n",
      "1195 qgedPho5Eta_Q4\n",
      "1215 qgedPho2Phi_Q3\n",
      "1222 qgedPho3Phi_Q3\n",
      "1229 qgedPho4Phi_Q3\n",
      "1235 qgedPho5Phi_Q2\n",
      "1236 qgedPho5Phi_Q3\n",
      "1237 qgedPho5Phi_Q4\n",
      "1248 qgedPho1En_Q1\n",
      "1255 qgedPho2En_Q1\n",
      "1262 qgedPho3En_Q1\n",
      "1263 qgedPho3En_Q2\n",
      "1269 qgedPho4En_Q1\n",
      "1270 qgedPho4En_Q2\n",
      "1271 qgedPho4En_Q3\n",
      "1276 qgedPho5En_Q1\n",
      "1277 qgedPho5En_Q2\n",
      "1278 qgedPho5En_Q3\n",
      "1304 qMu3Pt_Q1\n",
      "1311 qMu4Pt_Q1\n",
      "1318 qMu5Pt_Q1\n",
      "1430 qMu3En_Q1\n",
      "1437 qMu4En_Q1\n",
      "1444 qMu5En_Q1\n",
      "1458 qMuCosm1Pt_Q1\n",
      "1459 qMuCosm1Pt_Q2\n",
      "1465 qMuCosm2Pt_Q1\n",
      "1466 qMuCosm2Pt_Q2\n",
      "1467 qMuCosm2Pt_Q3\n",
      "1472 qMuCosm3Pt_Q1\n",
      "1473 qMuCosm3Pt_Q2\n",
      "1474 qMuCosm3Pt_Q3\n",
      "1475 qMuCosm3Pt_Q4\n",
      "1479 qMuCosm4Pt_Q1\n",
      "1480 qMuCosm4Pt_Q2\n",
      "1481 qMuCosm4Pt_Q3\n",
      "1482 qMuCosm4Pt_Q4\n",
      "1486 qMuCosm5Pt_Q1\n",
      "1487 qMuCosm5Pt_Q2\n",
      "1488 qMuCosm5Pt_Q3\n",
      "1489 qMuCosm5Pt_Q4\n",
      "1502 qMuCosm1Eta_Q3\n",
      "1508 qMuCosm2Eta_Q2\n",
      "1509 qMuCosm2Eta_Q3\n",
      "1510 qMuCosm2Eta_Q4\n",
      "1515 qMuCosm3Eta_Q2\n",
      "1516 qMuCosm3Eta_Q3\n",
      "1517 qMuCosm3Eta_Q4\n",
      "1522 qMuCosm4Eta_Q2\n",
      "1523 qMuCosm4Eta_Q3\n",
      "1524 qMuCosm4Eta_Q4\n",
      "1529 qMuCosm5Eta_Q2\n",
      "1530 qMuCosm5Eta_Q3\n",
      "1531 qMuCosm5Eta_Q4\n",
      "1545 qMuCosm1Phi_Q4\n",
      "1551 qMuCosm2Phi_Q3\n",
      "1552 qMuCosm2Phi_Q4\n",
      "1557 qMuCosm3Phi_Q2\n",
      "1558 qMuCosm3Phi_Q3\n",
      "1559 qMuCosm3Phi_Q4\n",
      "1564 qMuCosm4Phi_Q2\n",
      "1565 qMuCosm4Phi_Q3\n",
      "1566 qMuCosm4Phi_Q4\n",
      "1571 qMuCosm5Phi_Q2\n",
      "1572 qMuCosm5Phi_Q3\n",
      "1573 qMuCosm5Phi_Q4\n",
      "1584 qMuCosm1En_Q1\n",
      "1585 qMuCosm1En_Q2\n",
      "1591 qMuCosm2En_Q1\n",
      "1592 qMuCosm2En_Q2\n",
      "1593 qMuCosm2En_Q3\n",
      "1598 qMuCosm3En_Q1\n",
      "1599 qMuCosm3En_Q2\n",
      "1600 qMuCosm3En_Q3\n",
      "1601 qMuCosm3En_Q4\n",
      "1605 qMuCosm4En_Q1\n",
      "1606 qMuCosm4En_Q2\n",
      "1607 qMuCosm4En_Q3\n",
      "1608 qMuCosm4En_Q4\n",
      "1612 qMuCosm5En_Q1\n",
      "1613 qMuCosm5En_Q2\n",
      "1614 qMuCosm5En_Q3\n",
      "1615 qMuCosm5En_Q4\n",
      "1619 qMuCosmLeg0Pt_Q1\n",
      "1620 qMuCosmLeg0Pt_Q2\n",
      "1626 qMuCosmLeg1Pt_Q1\n",
      "1627 qMuCosmLeg1Pt_Q2\n",
      "1628 qMuCosmLeg1Pt_Q3\n",
      "1629 qMuCosmLeg1Pt_Q4\n",
      "1633 qMuCosmLeg2Pt_Q1\n",
      "1634 qMuCosmLeg2Pt_Q2\n",
      "1635 qMuCosmLeg2Pt_Q3\n",
      "1636 qMuCosmLeg2Pt_Q4\n",
      "1640 qMuCosmLeg3Pt_Q1\n",
      "1641 qMuCosmLeg3Pt_Q2\n",
      "1642 qMuCosmLeg3Pt_Q3\n",
      "1643 qMuCosmLeg3Pt_Q4\n",
      "1647 qMuCosmLeg4Pt_Q1\n",
      "1648 qMuCosmLeg4Pt_Q2\n",
      "1649 qMuCosmLeg4Pt_Q3\n",
      "1650 qMuCosmLeg4Pt_Q4\n",
      "1654 qMuCosmLeg5Pt_Q1\n",
      "1655 qMuCosmLeg5Pt_Q2\n",
      "1656 qMuCosmLeg5Pt_Q3\n",
      "1657 qMuCosmLeg5Pt_Q4\n",
      "1663 qMuCosmLeg0Eta_Q3\n",
      "1669 qMuCosmLeg1Eta_Q2\n",
      "1670 qMuCosmLeg1Eta_Q3\n",
      "1671 qMuCosmLeg1Eta_Q4\n",
      "1676 qMuCosmLeg2Eta_Q2\n",
      "1677 qMuCosmLeg2Eta_Q3\n",
      "1678 qMuCosmLeg2Eta_Q4\n",
      "1683 qMuCosmLeg3Eta_Q2\n",
      "1684 qMuCosmLeg3Eta_Q3\n",
      "1685 qMuCosmLeg3Eta_Q4\n",
      "1690 qMuCosmLeg4Eta_Q2\n",
      "1691 qMuCosmLeg4Eta_Q3\n",
      "1692 qMuCosmLeg4Eta_Q4\n",
      "1697 qMuCosmLeg5Eta_Q2\n",
      "1698 qMuCosmLeg5Eta_Q3\n",
      "1699 qMuCosmLeg5Eta_Q4\n",
      "1706 qMuCosmLeg0Phi_Q4\n",
      "1711 qMuCosmLeg1Phi_Q2\n",
      "1712 qMuCosmLeg1Phi_Q3\n",
      "1713 qMuCosmLeg1Phi_Q4\n",
      "1718 qMuCosmLeg2Phi_Q2\n",
      "1719 qMuCosmLeg2Phi_Q3\n",
      "1720 qMuCosmLeg2Phi_Q4\n",
      "1725 qMuCosmLeg3Phi_Q2\n",
      "1726 qMuCosmLeg3Phi_Q3\n",
      "1727 qMuCosmLeg3Phi_Q4\n",
      "1732 qMuCosmLeg4Phi_Q2\n",
      "1733 qMuCosmLeg4Phi_Q3\n",
      "1734 qMuCosmLeg4Phi_Q4\n",
      "1739 qMuCosmLeg5Phi_Q2\n",
      "1740 qMuCosmLeg5Phi_Q3\n",
      "1741 qMuCosmLeg5Phi_Q4\n",
      "1745 qMuCosmLeg0En_Q1\n",
      "1746 qMuCosmLeg0En_Q2\n",
      "1752 qMuCosmLeg1En_Q1\n",
      "1753 qMuCosmLeg1En_Q2\n",
      "1754 qMuCosmLeg1En_Q3\n",
      "1755 qMuCosmLeg1En_Q4\n",
      "1759 qMuCosmLeg2En_Q1\n",
      "1760 qMuCosmLeg2En_Q2\n",
      "1761 qMuCosmLeg2En_Q3\n",
      "1762 qMuCosmLeg2En_Q4\n",
      "1766 qMuCosmLeg3En_Q1\n",
      "1767 qMuCosmLeg3En_Q2\n",
      "1768 qMuCosmLeg3En_Q3\n",
      "1769 qMuCosmLeg3En_Q4\n",
      "1773 qMuCosmLeg4En_Q1\n",
      "1774 qMuCosmLeg4En_Q2\n",
      "1775 qMuCosmLeg4En_Q3\n",
      "1776 qMuCosmLeg4En_Q4\n",
      "1780 qMuCosmLeg5En_Q1\n",
      "1781 qMuCosmLeg5En_Q2\n",
      "1782 qMuCosmLeg5En_Q3\n",
      "1783 qMuCosmLeg5En_Q4\n",
      "2340 qgedPhosigmaIeta__Q1\n",
      "2351 qgedPhor1x5__Q5\n",
      "2396 qMuCh__Q1\n",
      "2397 qMuCh__Q2\n",
      "2399 qMuCh__Q4\n",
      "2400 qMuCh__Q5\n",
      "2401 qMuChi2__MEAN\n",
      "2402 qMuChi2__RMS\n",
      "2403 qMuChi2__Q1\n",
      "2404 qMuChi2__Q2\n",
      "2405 qMuChi2__Q3\n",
      "2406 qMuChi2__Q4\n",
      "2407 qMuChi2__Q5\n",
      "2438 qMuCosmCh__Q1\n",
      "2439 qMuCosmCh__Q2\n",
      "2441 qMuCosmCh__Q4\n",
      "2442 qMuCosmCh__Q5\n",
      "2443 qMuCosmChi2__MEAN\n",
      "2444 qMuCosmChi2__RMS\n",
      "2445 qMuCosmChi2__Q1\n",
      "2446 qMuCosmChi2__Q2\n",
      "2447 qMuCosmChi2__Q3\n",
      "2448 qMuCosmChi2__Q4\n",
      "2449 qMuCosmChi2__Q5\n",
      "2485 qMuCosmLegChi2__MEAN\n",
      "2486 qMuCosmLegChi2__RMS\n",
      "2487 qMuCosmLegChi2__Q1\n",
      "2488 qMuCosmLegChi2__Q2\n",
      "2489 qMuCosmLegChi2__Q3\n",
      "2490 qMuCosmLegChi2__Q4\n",
      "2491 qMuCosmLegChi2__Q5\n",
      "2494 qSigmaIEta_Q1\n",
      "2515 qHadOEm_Q1\n",
      "2522 qdrSumPt_Q1\n",
      "2620 qEBchi2_Q1\n",
      "2624 qEBchi2_Q5\n",
      "2631 qEBiEta_Q5\n",
      "2634 qEBiPhi_Q1\n",
      "2638 qEBiPhi_Q5\n",
      "2655 qEEchi2_Q1\n",
      "2662 qEEix_Q1\n",
      "2666 qEEix_Q5\n",
      "2669 qEEiy_Q1\n",
      "2673 qEEiy_Q5\n",
      "2704 qHBHEenergy_Q1\n",
      "2718 qHBHEauxe_Q1\n",
      "2732 qHBHEiphi_Q1\n",
      "2736 qHBHEiphi_Q5\n",
      "2753 qHFieta_Q1\n",
      "2767 qPreShEn_Q1\n",
      "2783 qPreShPhi_Q3\n",
      "2788 qPreShYEn_Q1\n",
      "2804 qPreShYPhi_Q3\n"
     ]
    }
   ],
   "source": [
    "for index in sorted(zv_all):\n",
    "    print(index, parameters[index])"
   ]
  },
  {
   "cell_type": "markdown",
   "metadata": {},
   "source": [
    "# Variance per dataset"
   ]
  },
  {
   "cell_type": "code",
   "execution_count": 9,
   "metadata": {},
   "outputs": [
    {
     "data": {
      "image/png": "[encoded data removed]",
      "text/plain": [
       "<Figure size 720x720 with 1 Axes>"
      ]
     },
     "metadata": {},
     "output_type": "display_data"
    }
   ],
   "source": [
    "plt.figure(figsize=(10,10))\n",
    "plt.grid()\n",
    "plt.title(\"Feature variance\")\n",
    "plt.ylabel(\"Variance (log scale)\")\n",
    "plt.xlabel(\"# of features\")\n",
    "plt.yscale(\"log\")\n",
    "plt.axhline(y=1, c=\"black\", label=\"variance = 1\")\n",
    "plt.axvline(x=750, c=\"brown\", label=\"x = 750\")\n",
    "\n",
    "\n",
    "for dset_name in dset_stats.keys():    \n",
    "    variance = [s[\"variance\"] for s in dset_stats[dset_name] if s[\"variance\"] > 0]\n",
    "    plt.plot(range(0, len(variance)), variance, label=dset_name)\n",
    "    \n",
    "plt.legend()\n",
    "plt.show()"
   ]
  },
  {
   "cell_type": "markdown",
   "metadata": {},
   "source": [
    "# Top 25 features from JetHT2016 with highest variance"
   ]
  },
  {
   "cell_type": "code",
   "execution_count": 10,
   "metadata": {},
   "outputs": [
    {
     "name": "stdout",
     "output_type": "stream",
     "text": [
      "    index           name position value      variance\n",
      "0    2393         qMuEn_       Q5  None  1.783834e+13\n",
      "1    1413         qMu0En       Q5  None  1.716167e+13\n",
      "2    1581     qMuCosm0En       Q5  None  1.007447e+13\n",
      "3    2435     qMuCosmEn_       Q5  None  1.007447e+13\n",
      "4    1455     qMuCosm0Pt       Q5  None  7.949787e+12\n",
      "5    2414      qMuCosmPt       Q5  None  7.949787e+12\n",
      "6    1749  qMuCosmLeg0En       Q5  None  6.293527e+12\n",
      "7    2477  qMuCosmLegEn_       Q5  None  6.293527e+12\n",
      "8    2372          qMuPt       Q5  None  4.290123e+12\n",
      "9    1287         qMu0Pt       Q5  None  4.290123e+12\n",
      "10   1420         qMu1En       Q5  None  6.048091e+11\n",
      "11   1623  qMuCosmLeg0Pt       Q5  None  3.398039e+11\n",
      "12   2456   qMuCosmLegPt       Q5  None  3.398039e+11\n",
      "13   2526       qdrSumPt       Q5  None  3.360109e+11\n",
      "14   1441         qMu4En       Q5  None  5.973530e+10\n",
      "15   2472  qMuCosmLegEn_      RMS  None  1.096230e+10\n",
      "16   1408         qMu0En      RMS  None  6.215867e+09\n",
      "17   2430     qMuCosmEn_      RMS  None  4.393684e+09\n",
      "18   1576     qMuCosm0En      RMS  None  4.141318e+09\n",
      "19   2409      qMuCosmPt      RMS  None  3.697609e+09\n",
      "20   1450     qMuCosm0Pt      RMS  None  3.374967e+09\n",
      "21   1744  qMuCosmLeg0En      RMS  None  2.657367e+09\n",
      "22   1434         qMu3En       Q5  None  2.502455e+09\n",
      "23   2582     qUNdrSumPt       Q5  None  2.390636e+09\n",
      "24   1282         qMu0Pt      RMS  None  1.541198e+09\n"
     ]
    }
   ],
   "source": [
    "with pd.option_context('display.max_rows', None):\n",
    "    print(pd.DataFrame(dset_stats[\"JetHT2016\"][:25]))"
   ]
  },
  {
   "cell_type": "markdown",
   "metadata": {},
   "source": [
    "# Top 25 features from SingleMuon2016 with highest variance"
   ]
  },
  {
   "cell_type": "code",
   "execution_count": 11,
   "metadata": {},
   "outputs": [
    {
     "name": "stdout",
     "output_type": "stream",
     "text": [
      "    index           name position value      variance\n",
      "0    2393         qMuEn_       Q5  None  8.798710e+13\n",
      "1    1413         qMu0En       Q5  None  8.783041e+13\n",
      "2    1581     qMuCosm0En       Q5  None  5.349234e+13\n",
      "3    2435     qMuCosmEn_       Q5  None  5.349234e+13\n",
      "4    1749  qMuCosmLeg0En       Q5  None  3.557017e+13\n",
      "5    2477  qMuCosmLegEn_       Q5  None  3.557017e+13\n",
      "6    2456   qMuCosmLegPt       Q5  None  2.315181e+13\n",
      "7    1623  qMuCosmLeg0Pt       Q5  None  2.315181e+13\n",
      "8    1455     qMuCosm0Pt       Q5  None  1.266540e+13\n",
      "9    2414      qMuCosmPt       Q5  None  1.266540e+13\n",
      "10   2372          qMuPt       Q5  None  7.300610e+12\n",
      "11   1287         qMu0Pt       Q5  None  7.300610e+12\n",
      "12   2526       qdrSumPt       Q5  None  1.979737e+12\n",
      "13   1448         qMu5En       Q5  None  1.135736e+11\n",
      "14   1408         qMu0En      RMS  None  2.490583e+10\n",
      "15   2472  qMuCosmLegEn_      RMS  None  1.634745e+10\n",
      "16   1576     qMuCosm0En      RMS  None  1.498170e+10\n",
      "17   1420         qMu1En       Q5  None  1.350571e+10\n",
      "18   2451   qMuCosmLegPt      RMS  None  1.071053e+10\n",
      "19   1744  qMuCosmLeg0En      RMS  None  9.235259e+09\n",
      "20   2430     qMuCosmEn_      RMS  None  8.800629e+09\n",
      "21   1618  qMuCosmLeg0Pt      RMS  None  5.996706e+09\n",
      "22   2388         qMuEn_      RMS  None  5.171332e+09\n",
      "23   1427         qMu2En       Q5  None  4.245443e+09\n",
      "24   1450     qMuCosm0Pt      RMS  None  3.429907e+09\n"
     ]
    }
   ],
   "source": [
    "with pd.option_context('display.max_rows', None):\n",
    "    print(pd.DataFrame(dset_stats[\"SingleMuon2016\"][:25]))"
   ]
  },
  {
   "cell_type": "markdown",
   "metadata": {},
   "source": [
    "# Top 25 features from SinglePhoton2016 with highest variance"
   ]
  },
  {
   "cell_type": "code",
   "execution_count": 12,
   "metadata": {},
   "outputs": [
    {
     "name": "stdout",
     "output_type": "stream",
     "text": [
      "    index           name position value      variance\n",
      "0    2393         qMuEn_       Q5  None  7.191809e+13\n",
      "1    1413         qMu0En       Q5  None  7.183112e+13\n",
      "2    1287         qMu0Pt       Q5  None  8.381953e+11\n",
      "3    2372          qMuPt       Q5  None  8.381953e+11\n",
      "4    1581     qMuCosm0En       Q5  None  1.290787e+11\n",
      "5    2435     qMuCosmEn_       Q5  None  1.290787e+11\n",
      "6    1408         qMu0En      RMS  None  8.242113e+10\n",
      "7    1441         qMu4En       Q5  None  7.945259e+10\n",
      "8    1455     qMuCosm0Pt       Q5  None  5.334934e+10\n",
      "9    2414      qMuCosmPt       Q5  None  5.334934e+10\n",
      "10   2526       qdrSumPt       Q5  None  4.654887e+10\n",
      "11   1749  qMuCosmLeg0En       Q5  None  3.334029e+10\n",
      "12   2477  qMuCosmLegEn_       Q5  None  3.334028e+10\n",
      "13   2388         qMuEn_      RMS  None  1.716939e+10\n",
      "14   1623  qMuCosmLeg0Pt       Q5  None  1.110090e+10\n",
      "15   2456   qMuCosmLegPt       Q5  None  1.110090e+10\n",
      "16   1448         qMu5En       Q5  None  6.762606e+09\n",
      "17   1282         qMu0Pt      RMS  None  1.001234e+09\n",
      "18   1434         qMu3En       Q5  None  4.431705e+08\n",
      "19   2430     qMuCosmEn_      RMS  None  2.181639e+08\n",
      "20   2582     qUNdrSumPt       Q5  None  2.152983e+08\n",
      "21   1427         qMu2En       Q5  None  1.973833e+08\n",
      "22   1420         qMu1En       Q5  None  1.741702e+08\n",
      "23   2367          qMuPt      RMS  None  1.315999e+08\n",
      "24   1576     qMuCosm0En      RMS  None  1.286337e+08\n"
     ]
    }
   ],
   "source": [
    "with pd.option_context('display.max_rows', None):\n",
    "    print(pd.DataFrame(dset_stats[\"SinglePhoton2016\"][:25]))"
   ]
  },
  {
   "cell_type": "markdown",
   "metadata": {},
   "source": [
    "# Top 25 features from ZeroBias2016 with highest variance"
   ]
  },
  {
   "cell_type": "code",
   "execution_count": 13,
   "metadata": {},
   "outputs": [
    {
     "name": "stdout",
     "output_type": "stream",
     "text": [
      "    index           name position value      variance\n",
      "0    2393         qMuEn_       Q5  None  9.172261e+10\n",
      "1    1413         qMu0En       Q5  None  9.098319e+10\n",
      "2    1287         qMu0Pt       Q5  None  3.680330e+10\n",
      "3    2372          qMuPt       Q5  None  3.680330e+10\n",
      "4    1581     qMuCosm0En       Q5  None  6.391311e+09\n",
      "5    2435     qMuCosmEn_       Q5  None  6.391310e+09\n",
      "6    1749  qMuCosmLeg0En       Q5  None  4.625673e+09\n",
      "7    2477  qMuCosmLegEn_       Q5  None  4.625672e+09\n",
      "8    1623  qMuCosmLeg0Pt       Q5  None  1.816241e+09\n",
      "9    2456   qMuCosmLegPt       Q5  None  1.816241e+09\n",
      "10   2414      qMuCosmPt       Q5  None  9.206894e+08\n",
      "11   1455     qMuCosm0Pt       Q5  None  9.206894e+08\n",
      "12   1420         qMu1En       Q5  None  6.502979e+08\n",
      "13   1408         qMu0En      RMS  None  1.437841e+08\n",
      "14   1441         qMu4En       Q5  None  6.763914e+07\n",
      "15   1282         qMu0Pt      RMS  None  5.281774e+07\n",
      "16   2472  qMuCosmLegEn_      RMS  None  3.592041e+07\n",
      "17   2388         qMuEn_      RMS  None  3.589756e+07\n",
      "18   2451   qMuCosmLegPt      RMS  None  1.369007e+07\n",
      "19   2430     qMuCosmEn_      RMS  None  1.301909e+07\n",
      "20   2367          qMuPt      RMS  None  9.418325e+06\n",
      "21   1576     qMuCosm0En      RMS  None  7.042967e+06\n",
      "22   1744  qMuCosmLeg0En      RMS  None  5.993010e+06\n",
      "23   2526       qdrSumPt       Q5  None  5.521725e+06\n",
      "24   1434         qMu3En       Q5  None  4.148107e+06\n"
     ]
    }
   ],
   "source": [
    "with pd.option_context('display.max_rows', None):\n",
    "    print(pd.DataFrame(dset_stats[\"ZeroBias2016\"][:25]))"
   ]
  },
  {
   "cell_type": "code",
   "execution_count": null,
   "metadata": {},
   "outputs": [],
   "source": []
  }
 ],
 "metadata": {
  "kernelspec": {
   "display_name": "Python 3",
   "language": "python",
   "name": "python3"
  },
  "language_info": {
   "codemirror_mode": {
    "name": "ipython",
    "version": 3
   },
   "file_extension": ".py",
   "mimetype": "text/x-python",
   "name": "python",
   "nbconvert_exporter": "python",
   "pygments_lexer": "ipython3",
   "version": "3.6.5"
  }
 },
 "nbformat": 4,
 "nbformat_minor": 2
}
